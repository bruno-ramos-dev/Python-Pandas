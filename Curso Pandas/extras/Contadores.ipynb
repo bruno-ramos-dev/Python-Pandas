{
 "cells": [
  {
   "cell_type": "code",
   "execution_count": 1,
   "id": "d0e5c8ee",
   "metadata": {},
   "outputs": [],
   "source": [
    "import pandas as pd"
   ]
  },
  {
   "cell_type": "code",
   "execution_count": 2,
   "id": "3feb2abe",
   "metadata": {},
   "outputs": [],
   "source": [
    "s = pd.Series(list('assdsaddfsdfasdsadas'))"
   ]
  },
  {
   "cell_type": "code",
   "execution_count": 3,
   "id": "e4c81a13",
   "metadata": {},
   "outputs": [
    {
     "data": {
      "text/plain": [
       "0     a\n",
       "1     s\n",
       "2     s\n",
       "3     d\n",
       "4     s\n",
       "5     a\n",
       "6     d\n",
       "7     d\n",
       "8     f\n",
       "9     s\n",
       "10    d\n",
       "11    f\n",
       "12    a\n",
       "13    s\n",
       "14    d\n",
       "15    s\n",
       "16    a\n",
       "17    d\n",
       "18    a\n",
       "19    s\n",
       "dtype: object"
      ]
     },
     "execution_count": 3,
     "metadata": {},
     "output_type": "execute_result"
    }
   ],
   "source": [
    "s"
   ]
  },
  {
   "cell_type": "code",
   "execution_count": 4,
   "id": "a83bff6e",
   "metadata": {},
   "outputs": [
    {
     "data": {
      "text/plain": [
       "array(['a', 's', 'd', 'f'], dtype=object)"
      ]
     },
     "execution_count": 4,
     "metadata": {},
     "output_type": "execute_result"
    }
   ],
   "source": [
    "s.unique()"
   ]
  },
  {
   "cell_type": "code",
   "execution_count": 5,
   "id": "642a4704",
   "metadata": {},
   "outputs": [
    {
     "data": {
      "text/plain": [
       "s    7\n",
       "d    6\n",
       "a    5\n",
       "f    2\n",
       "dtype: int64"
      ]
     },
     "execution_count": 5,
     "metadata": {},
     "output_type": "execute_result"
    }
   ],
   "source": [
    "s.value_counts()"
   ]
  },
  {
   "cell_type": "code",
   "execution_count": 6,
   "id": "9745a7bd",
   "metadata": {},
   "outputs": [],
   "source": [
    "dados = pd.read_csv('dados/aluguel.csv', sep = ';')"
   ]
  },
  {
   "cell_type": "code",
   "execution_count": 7,
   "id": "e9057b10",
   "metadata": {},
   "outputs": [
    {
     "data": {
      "text/plain": [
       "array(['Apartamento', 'Casa', 'Casa de Condomínio', 'Casa de Vila',\n",
       "       'Quitinete'], dtype=object)"
      ]
     },
     "execution_count": 7,
     "metadata": {},
     "output_type": "execute_result"
    }
   ],
   "source": [
    "dados.Tipo.unique()"
   ]
  },
  {
   "cell_type": "code",
   "execution_count": 8,
   "id": "5a177e8e",
   "metadata": {},
   "outputs": [
    {
     "data": {
      "text/plain": [
       "Apartamento           16923\n",
       "Casa de Condomínio      964\n",
       "Casa                    898\n",
       "Quitinete               813\n",
       "Casa de Vila            233\n",
       "Name: Tipo, dtype: int64"
      ]
     },
     "execution_count": 8,
     "metadata": {},
     "output_type": "execute_result"
    }
   ],
   "source": [
    "dados.Tipo.value_counts()"
   ]
  },
  {
   "cell_type": "code",
   "execution_count": null,
   "id": "f6384250",
   "metadata": {},
   "outputs": [],
   "source": []
  }
 ],
 "metadata": {
  "kernelspec": {
   "display_name": "Python 3 (ipykernel)",
   "language": "python",
   "name": "python3"
  },
  "language_info": {
   "codemirror_mode": {
    "name": "ipython",
    "version": 3
   },
   "file_extension": ".py",
   "mimetype": "text/x-python",
   "name": "python",
   "nbconvert_exporter": "python",
   "pygments_lexer": "ipython3",
   "version": "3.9.12"
  }
 },
 "nbformat": 4,
 "nbformat_minor": 5
}
